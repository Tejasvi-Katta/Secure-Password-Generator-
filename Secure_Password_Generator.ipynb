{
  "nbformat": 4,
  "nbformat_minor": 0,
  "metadata": {
    "colab": {
      "name": "Secure_Password_Generator.ipynb",
      "provenance": [],
      "collapsed_sections": [],
      "authorship_tag": "ABX9TyM33UgsM4WubpGU5pQbJK7T",
      "include_colab_link": true
    },
    "kernelspec": {
      "name": "python3",
      "display_name": "Python 3"
    },
    "language_info": {
      "name": "python"
    }
  },
  "cells": [
    {
      "cell_type": "markdown",
      "metadata": {
        "id": "view-in-github",
        "colab_type": "text"
      },
      "source": [
        "<a href=\"https://colab.research.google.com/github/Tejasvi-Katta/Secure-Password-Generator-/blob/main/Secure_Password_Generator.ipynb\" target=\"_parent\"><img src=\"https://colab.research.google.com/assets/colab-badge.svg\" alt=\"Open In Colab\"/></a>"
      ]
    },
    {
      "cell_type": "code",
      "metadata": {
        "id": "sd65sScaFZmZ"
      },
      "source": [
        "import random\n",
        "import array\n"
      ],
      "execution_count": null,
      "outputs": []
    },
    {
      "cell_type": "code",
      "metadata": {
        "id": "iy9YgOfmEA_T",
        "colab": {
          "base_uri": "https://localhost:8080/"
        },
        "outputId": "7fff71f0-b7ed-4071-be1d-ebc48fbb9d5a"
      },
      "source": [
        "length = int(input(\"Enter the length of the password(should be less than 20): \"))\n",
        "upper_case = input(\"Include upper case alphabets (Y/N): \")\n",
        "lower_case = input(\"Include lower case alphabets (Y/N): \")\n",
        "numbers = input(\"Include numbers (Y/N): \")\n",
        "special_char = input(\"Include special characters(#,$,%,&,@ etc) (Y/N): \")\n"
      ],
      "execution_count": null,
      "outputs": [
        {
          "name": "stdout",
          "output_type": "stream",
          "text": [
            "Enter the length of the password(should be less than 20): 8\n",
            "Include upper case alphabets (Y/N): Y\n",
            "Include lower case alphabets (Y/N): N\n",
            "Include numbers (Y/N): N\n",
            "Include special characters(#,$,%,&,@ etc) (Y/N): N\n"
          ]
        }
      ]
    },
    {
      "cell_type": "code",
      "metadata": {
        "id": "Uh3pjnI0Fbjx",
        "colab": {
          "base_uri": "https://localhost:8080/"
        },
        "outputId": "96c7ea3e-adda-4b74-c385-298129c52b68"
      },
      "source": [
        "temp_password = \"\"\n",
        "n = 0\n",
        "\n",
        "numbers_list = ['1','2','3','4','5','6','7','8','9','0']\n",
        "lower_alphabets = list(\"a b c d e f g h i j k l m n o p q r s t u v w x y z\".split())\n",
        "upper_alphabets = list(\"A B C D E F G H I J K L M N O P Q R S T U V W X Y Z\".split())\n",
        "characters = ['!','@','#','$','%','^','&','*','(',')','_','=',':','<','>','?','/','|']\n",
        "random_list = list()\n",
        "\n",
        "if upper_case =='Y':\n",
        "  n += 1\n",
        "  temp_password = temp_password + random.choice(upper_alphabets)\n",
        "  random_list = random_list + upper_alphabets\n",
        "if lower_case =='Y':\n",
        "  n += 1\n",
        "  temp_password = temp_password + random.choice(lower_alphabets)\n",
        "  random_list = random_list + lower_alphabets\n",
        "if numbers =='Y':\n",
        "  n += 1\n",
        "  temp_password = temp_password + random.choice(numbers_list)\n",
        "  random_list = random_list + numbers_list\n",
        "if special_char =='Y':\n",
        "  n += 1\n",
        "  temp_password = temp_password + random.choice(characters)\n",
        "  random_list = random_list + characters\n",
        "\n",
        "for i in range(length - n):\n",
        "  temp_password = temp_password + random.choice(random_list)\n",
        "\n",
        "  temp_password_arr = array.array('u',temp_password)\n",
        "  random.shuffle(temp_password_arr)\n",
        "  random.shuffle(temp_password_arr)\n",
        "\n",
        "password = \"\"\n",
        "\n",
        "for i in temp_password_arr:\n",
        "  password = password + i\n",
        "\n",
        "print(password)"
      ],
      "execution_count": null,
      "outputs": [
        {
          "output_type": "stream",
          "name": "stdout",
          "text": [
            "JQWIQLKF\n"
          ]
        }
      ]
    }
  ]
}